{
 "cells": [
  {
   "cell_type": "code",
   "execution_count": 16,
   "metadata": {},
   "outputs": [
    {
     "data": {
      "text/plain": [
       "device(type='cuda')"
      ]
     },
     "execution_count": 16,
     "metadata": {},
     "output_type": "execute_result"
    }
   ],
   "source": [
    "import numpy as np\n",
    "import matplotlib.pyplot as plt\n",
    "import pandas as pd\n",
    "import json\n",
    "import torch\n",
    "import re\n",
    "import seaborn as sns\n",
    "from tqdm.notebook import tqdm\n",
    "from sklearn.metrics import accuracy_score, f1_score, confusion_matrix, classification_report\n",
    "from transformers import RobertaTokenizer, RobertaForSequenceClassification, get_linear_schedule_with_warmup\n",
    "from collections import defaultdict, Counter\n",
    "from sklearn.preprocessing import LabelEncoder\n",
    "\n",
    "\n",
    "# Torch\n",
    "device = torch.device('cuda' if torch.cuda.is_available() else 'cpu')\n",
    "device"
   ]
  },
  {
   "cell_type": "code",
   "execution_count": 8,
   "metadata": {},
   "outputs": [
    {
     "name": "stdout",
     "output_type": "stream",
     "text": [
      "train_df\n",
      "Rows:  8243 \n",
      "                                               string       label\n",
      "0  However, how frataxin interacts with the Fe-S ...  background\n",
      "1  In the study by Hickey et al. (2012), spikes w...  background\n",
      "2  The drug also reduces catecholamine secretion,...  background\n",
      "3  By clustering with lowly aggressive close kin ...  background\n",
      "4  Ophthalmic symptoms are rare manifestations of...  background\n",
      "\n",
      "test_df\n",
      "Rows:  1861 \n",
      "                                               string       label\n",
      "0  Chapel, as well as X10 [2], UPC [3] , CoArray ...  background\n",
      "1  In addition, the result of the present study s...      result\n",
      "2  Several instruments that more specifically add...  background\n",
      "3  Organotypic hippocampal slice cultures\\nInterf...      method\n",
      "4  Activated PBMC are the basis of the standard P...  background\n",
      "\n",
      "val_df\n",
      "Rows:  916 \n",
      "                                               string       label\n",
      "0  These results are in contrast with the finding...      result\n",
      "1  …nest burrows in close proximity of one anothe...  background\n",
      "2  This is clearly in contrast to the results of ...      result\n",
      "3  …in a subset of alcoholics (Chen et al., 2004;...  background\n",
      "4  This result is consistent with the conclusions...      result\n"
     ]
    }
   ],
   "source": [
    "# Read in json file\n",
    "jsonObjTrain = pd.read_json(path_or_buf=r'.\\scicite\\train.jsonl', lines=True)\n",
    "jsonObjTest = pd.read_json(path_or_buf=r'.\\scicite\\test.jsonl', lines=True)\n",
    "jsonObjVal = pd.read_json(path_or_buf=r'.\\scicite\\dev.jsonl', lines=True)\n",
    "\n",
    "# Select relevant columns\n",
    "train_df = jsonObjTrain[['string', 'label']]\n",
    "print(\"train_df\\nRows: \", train_df.shape[0], \"\\n\", train_df.head())\n",
    "test_df = jsonObjTest[['string', 'label']]\n",
    "print(\"\\ntest_df\\nRows: \", test_df.shape[0], \"\\n\", test_df.head())\n",
    "val_df = jsonObjVal[['string', 'label']]\n",
    "print(\"\\nval_df\\nRows: \", val_df.shape[0], \"\\n\", val_df.head())"
   ]
  },
  {
   "cell_type": "code",
   "execution_count": 9,
   "metadata": {},
   "outputs": [
    {
     "data": {
      "image/png": "[encoded data removed]",
      "text/plain": [
       "<Figure size 720x360 with 1 Axes>"
      ]
     },
     "metadata": {
      "needs_background": "light"
     },
     "output_type": "display_data"
    },
    {
     "name": "stdout",
     "output_type": "stream",
     "text": [
      "Max number of words:  505\n",
      "Max chars:  3327\n"
     ]
    },
    {
     "data": {
      "image/png": "[encoded data removed]",
      "text/plain": [
       "<Figure size 432x288 with 1 Axes>"
      ]
     },
     "metadata": {
      "needs_background": "light"
     },
     "output_type": "display_data"
    }
   ],
   "source": [
    "# Quick EDA\n",
    "categories = train_df['label'].values.reshape(-1)\n",
    "counter_categories = Counter(categories)\n",
    "category_names = counter_categories.keys()\n",
    "category_counts = counter_categories.values()\n",
    "\n",
    "# Graph\n",
    "plt.figure(figsize=(10, 5))\n",
    "plt.bar(category_names, category_counts)\n",
    "plt.xlabel('Categories')\n",
    "plt.ylabel('Counts')\n",
    "plt.title('Counts of Categories')\n",
    "plt.show()\n",
    "\n",
    "# Check longest number of words\n",
    "longest_string = 0\n",
    "for string in train_df['string']:\n",
    "    longest_string = max(longest_string, len(string.split()))\n",
    "print(\"Max number of words: \", longest_string)\n",
    "\n",
    "# Check longest number of characters\n",
    "max_chars = 0\n",
    "for string in train_df['string']:\n",
    "    max_chars = max(max_chars, len(string))\n",
    "print(\"Max chars: \", max_chars)\n",
    "\n",
    "# Check for distribution of number of words\n",
    "plot = sns.kdeplot(train_df['string'].apply(lambda x: len(x.split())), fill=True)"
   ]
  },
  {
   "cell_type": "code",
   "execution_count": 10,
   "metadata": {},
   "outputs": [
    {
     "name": "stderr",
     "output_type": "stream",
     "text": [
      "c:\\Users\\chiay\\.conda\\envs\\EE2211\\lib\\site-packages\\transformers\\tokenization_utils_base.py:2688: FutureWarning: The `pad_to_max_length` argument is deprecated and will be removed in a future version, use `padding=True` or `padding='longest'` to pad to the longest sequence in the batch, or use `padding='max_length'` to pad to a max length. In this case, you can give a specific length with `max_length` (e.g. `max_length=45`) or leave max_length to None to pad to the maximal input size of the model (e.g. 512 for Bert).\n",
      "  warnings.warn(\n"
     ]
    }
   ],
   "source": [
    "## Roberta\n",
    "max_length = 100\n",
    "\n",
    "# Tokenizer\n",
    "tokenizer = RobertaTokenizer.from_pretrained('roberta-base', do_lower_case=True)\n",
    "X_train = train_df['string'].values\n",
    "X_train_encoded = tokenizer.batch_encode_plus(X_train.tolist(), \n",
    "                                              pad_to_max_length=True, \n",
    "                                              max_length=max_length, \n",
    "                                              return_tensors='pt', \n",
    "                                              truncation=True)\n",
    "X_test = test_df['string'].values\n",
    "X_test_encoded = tokenizer.batch_encode_plus(X_test.tolist(), \n",
    "                                              pad_to_max_length=True, \n",
    "                                              max_length=max_length, \n",
    "                                              return_tensors='pt', \n",
    "                                              truncation=True)\n",
    "X_val = val_df['string'].values\n",
    "X_val_encoded = tokenizer.batch_encode_plus(X_val.tolist(), \n",
    "                                              pad_to_max_length=True, \n",
    "                                              max_length=max_length, \n",
    "                                              return_tensors='pt', \n",
    "                                              truncation=True)\n",
    "\n",
    "# Label Encoder\n",
    "label_encoder = LabelEncoder()\n",
    "y_train = label_encoder.fit_transform(train_df['label'].values)\n",
    "y_train = torch.tensor(y_train)\n",
    "# print(y_train.unique())\n",
    "y_test = label_encoder.transform(test_df['label'].values)\n",
    "y_test = torch.tensor(y_test)\n",
    "y_val = label_encoder.transform(val_df['label'].values)\n",
    "y_val = torch.tensor(y_val)"
   ]
  },
  {
   "cell_type": "code",
   "execution_count": 11,
   "metadata": {},
   "outputs": [],
   "source": [
    "# Create dataset\n",
    "batch_size = 32\n",
    "train_dataset = torch.utils.data.TensorDataset(X_train_encoded['input_ids'], X_train_encoded['attention_mask'], y_train)\n",
    "train_dataloader = torch.utils.data.DataLoader(train_dataset, \n",
    "                                               sampler=torch.utils.data.RandomSampler(train_dataset), \n",
    "                                               batch_size=batch_size)\n",
    "test_dataset = torch.utils.data.TensorDataset(X_test_encoded['input_ids'], X_test_encoded['attention_mask'], y_test)\n",
    "test_dataloader = torch.utils.data.DataLoader(test_dataset, \n",
    "                                              sampler=torch.utils.data.SequentialSampler(test_dataset), \n",
    "                                              batch_size=batch_size)\n",
    "val_dataset = torch.utils.data.TensorDataset(X_val_encoded['input_ids'], X_val_encoded['attention_mask'], y_val)\n",
    "val_dataloader = torch.utils.data.DataLoader(val_dataset, \n",
    "                                              sampler=torch.utils.data.SequentialSampler(val_dataset), \n",
    "                                              batch_size=batch_size)"
   ]
  },
  {
   "cell_type": "code",
   "execution_count": 12,
   "metadata": {},
   "outputs": [
    {
     "name": "stderr",
     "output_type": "stream",
     "text": [
      "Some weights of RobertaForSequenceClassification were not initialized from the model checkpoint at roberta-base and are newly initialized: ['classifier.dense.bias', 'classifier.dense.weight', 'classifier.out_proj.bias', 'classifier.out_proj.weight']\n",
      "You should probably TRAIN this model on a down-stream task to be able to use it for predictions and inference.\n"
     ]
    },
    {
     "data": {
      "text/plain": [
       "RobertaForSequenceClassification(\n",
       "  (roberta): RobertaModel(\n",
       "    (embeddings): RobertaEmbeddings(\n",
       "      (word_embeddings): Embedding(50265, 768, padding_idx=1)\n",
       "      (position_embeddings): Embedding(514, 768, padding_idx=1)\n",
       "      (token_type_embeddings): Embedding(1, 768)\n",
       "      (LayerNorm): LayerNorm((768,), eps=1e-05, elementwise_affine=True)\n",
       "      (dropout): Dropout(p=0.1, inplace=False)\n",
       "    )\n",
       "    (encoder): RobertaEncoder(\n",
       "      (layer): ModuleList(\n",
       "        (0-11): 12 x RobertaLayer(\n",
       "          (attention): RobertaAttention(\n",
       "            (self): RobertaSelfAttention(\n",
       "              (query): Linear(in_features=768, out_features=768, bias=True)\n",
       "              (key): Linear(in_features=768, out_features=768, bias=True)\n",
       "              (value): Linear(in_features=768, out_features=768, bias=True)\n",
       "              (dropout): Dropout(p=0.1, inplace=False)\n",
       "            )\n",
       "            (output): RobertaSelfOutput(\n",
       "              (dense): Linear(in_features=768, out_features=768, bias=True)\n",
       "              (LayerNorm): LayerNorm((768,), eps=1e-05, elementwise_affine=True)\n",
       "              (dropout): Dropout(p=0.1, inplace=False)\n",
       "            )\n",
       "          )\n",
       "          (intermediate): RobertaIntermediate(\n",
       "            (dense): Linear(in_features=768, out_features=3072, bias=True)\n",
       "            (intermediate_act_fn): GELUActivation()\n",
       "          )\n",
       "          (output): RobertaOutput(\n",
       "            (dense): Linear(in_features=3072, out_features=768, bias=True)\n",
       "            (LayerNorm): LayerNorm((768,), eps=1e-05, elementwise_affine=True)\n",
       "            (dropout): Dropout(p=0.1, inplace=False)\n",
       "          )\n",
       "        )\n",
       "      )\n",
       "    )\n",
       "  )\n",
       "  (classifier): RobertaClassificationHead(\n",
       "    (dense): Linear(in_features=768, out_features=768, bias=True)\n",
       "    (dropout): Dropout(p=0.1, inplace=False)\n",
       "    (out_proj): Linear(in_features=768, out_features=3, bias=True)\n",
       "  )\n",
       ")"
      ]
     },
     "execution_count": 12,
     "metadata": {},
     "output_type": "execute_result"
    }
   ],
   "source": [
    "# Model\n",
    "model = RobertaForSequenceClassification.from_pretrained('roberta-base',\n",
    "                                                         num_labels = len(label_encoder.classes_),\n",
    "                                                         output_attentions = False,\n",
    "                                                         output_hidden_states = False)\n",
    "model.to(device)"
   ]
  },
  {
   "cell_type": "code",
   "execution_count": 13,
   "metadata": {},
   "outputs": [],
   "source": [
    "def accuracy(preds,labels):\n",
    "    pred_flat = np.argmax(preds,axis=1).flatten()\n",
    "    label_flat = labels.flatten()\n",
    "    return np.sum(pred_flat==label_flat)/len(label_flat)\n",
    "\n",
    "def evaluate(dataloader_test):\n",
    "    model.eval()\n",
    "    loss_val_total = 0\n",
    "    predictions,true_vals = [],[]\n",
    "    for batch in dataloader_test:\n",
    "        input_ids = batch[0].to(device)\n",
    "        attention_mask = batch[1].to(device)\n",
    "        batch[2] = batch[2].type(torch.LongTensor)   # casting to long\n",
    "        labels = batch[2].to(device)\n",
    "        \n",
    "        inputs = {'input_ids':      input_ids,\n",
    "                  'attention_mask': attention_mask,\n",
    "                  'labels':         labels,\n",
    "                 }\n",
    "        with torch.no_grad():\n",
    "            outputs = model(**inputs)\n",
    "        loss = outputs[0]\n",
    "        logits = outputs[1]\n",
    "        loss_val_total += loss.item()\n",
    "        logits = logits.detach().cpu().numpy()\n",
    "        label_ids = inputs['labels'].cpu().numpy()\n",
    "        predictions.append(logits)\n",
    "        true_vals.append(label_ids)\n",
    "    loss_val_avg = loss_val_total / len(dataloader_test)\n",
    "    predictions = np.concatenate(predictions,axis=0)\n",
    "    true_vals = np.concatenate(true_vals, axis=0)\n",
    "    return loss_val_avg, predictions, true_vals\n",
    "\n",
    "class EarlyStopper:\n",
    "    def __init__(self, patience=1, min_delta=0):\n",
    "        self.patience = patience\n",
    "        self.min_delta = min_delta\n",
    "        self.counter = 0\n",
    "        self.min_validation_loss = float('inf')\n",
    "\n",
    "    def early_stop(self, validation_loss):\n",
    "        if validation_loss < self.min_validation_loss:\n",
    "            self.min_validation_loss = validation_loss\n",
    "            self.counter = 0\n",
    "        elif validation_loss > (self.min_validation_loss + self.min_delta):\n",
    "            self.counter += 1\n",
    "            if self.counter >= self.patience:\n",
    "                return True\n",
    "        return False"
   ]
  },
  {
   "cell_type": "code",
   "execution_count": 14,
   "metadata": {},
   "outputs": [
    {
     "name": "stderr",
     "output_type": "stream",
     "text": [
      "Epoch 1: 100%|██████████| 258/258 [01:54<00:00,  2.25it/s, training_loss=0.111]\n",
      "  0%|          | 0/10 [01:54<?, ?it/s]"
     ]
    },
    {
     "name": "stdout",
     "output_type": "stream",
     "text": [
      "\n",
      "Epoch 1\n",
      "Training loss: 0.5099622457930746\n"
     ]
    },
    {
     "name": "stderr",
     "output_type": "stream",
     "text": [
      "  0%|          | 0/10 [01:58<?, ?it/s]"
     ]
    },
    {
     "name": "stdout",
     "output_type": "stream",
     "text": [
      "Validation loss: 0.4007068831345131\n",
      "Accuracy: 0.8504366812227074\n"
     ]
    },
    {
     "name": "stderr",
     "output_type": "stream",
     "text": [
      " 10%|█         | 1/10 [02:07<19:05, 127.22s/it]"
     ]
    },
    {
     "name": "stdout",
     "output_type": "stream",
     "text": [
      "Test loss: 0.8420204191295003\n",
      "Accuracy: 0.8420204191295003\n"
     ]
    },
    {
     "name": "stderr",
     "output_type": "stream",
     "text": [
      "Epoch 2: 100%|██████████| 258/258 [01:56<00:00,  2.21it/s, training_loss=0.096]\n",
      " 10%|█         | 1/10 [04:04<19:05, 127.22s/it]"
     ]
    },
    {
     "name": "stdout",
     "output_type": "stream",
     "text": [
      "\n",
      "Epoch 2\n",
      "Training loss: 0.33194233485779095\n"
     ]
    },
    {
     "name": "stderr",
     "output_type": "stream",
     "text": [
      " 10%|█         | 1/10 [04:08<19:05, 127.22s/it]"
     ]
    },
    {
     "name": "stdout",
     "output_type": "stream",
     "text": [
      "Validation loss: 0.414336362275584\n",
      "Accuracy: 0.851528384279476\n"
     ]
    },
    {
     "name": "stderr",
     "output_type": "stream",
     "text": [
      " 20%|██        | 2/10 [04:17<17:11, 128.89s/it]"
     ]
    },
    {
     "name": "stdout",
     "output_type": "stream",
     "text": [
      "Test loss: 0.8554540569586244\n",
      "Accuracy: 0.8554540569586244\n"
     ]
    },
    {
     "name": "stderr",
     "output_type": "stream",
     "text": [
      "Epoch 3: 100%|██████████| 258/258 [01:58<00:00,  2.18it/s, training_loss=0.130]\n",
      " 20%|██        | 2/10 [06:15<17:11, 128.89s/it]"
     ]
    },
    {
     "name": "stdout",
     "output_type": "stream",
     "text": [
      "\n",
      "Epoch 3\n",
      "Training loss: 0.26363178741100224\n"
     ]
    },
    {
     "name": "stderr",
     "output_type": "stream",
     "text": [
      " 20%|██        | 2/10 [06:20<17:11, 128.89s/it]"
     ]
    },
    {
     "name": "stdout",
     "output_type": "stream",
     "text": [
      "Validation loss: 0.4489500460953548\n",
      "Accuracy: 0.8580786026200873\n"
     ]
    },
    {
     "name": "stderr",
     "output_type": "stream",
     "text": [
      " 30%|███       | 3/10 [06:28<15:11, 130.16s/it]"
     ]
    },
    {
     "name": "stdout",
     "output_type": "stream",
     "text": [
      "Test loss: 0.8527673293927995\n",
      "Accuracy: 0.8527673293927995\n"
     ]
    },
    {
     "name": "stderr",
     "output_type": "stream",
     "text": [
      "Epoch 4: 100%|██████████| 258/258 [01:57<00:00,  2.20it/s, training_loss=0.086]\n",
      " 30%|███       | 3/10 [08:26<15:11, 130.16s/it]"
     ]
    },
    {
     "name": "stdout",
     "output_type": "stream",
     "text": [
      "\n",
      "Epoch 4\n",
      "Training loss: 0.19420344712458146\n"
     ]
    },
    {
     "name": "stderr",
     "output_type": "stream",
     "text": [
      " 30%|███       | 3/10 [08:30<15:11, 130.16s/it]"
     ]
    },
    {
     "name": "stdout",
     "output_type": "stream",
     "text": [
      "Validation loss: 0.5167229900072361\n",
      "Accuracy: 0.8537117903930131\n"
     ]
    },
    {
     "name": "stderr",
     "output_type": "stream",
     "text": [
      " 40%|████      | 4/10 [08:39<13:01, 130.26s/it]"
     ]
    },
    {
     "name": "stdout",
     "output_type": "stream",
     "text": [
      "Test loss: 0.8629768941429339\n",
      "Accuracy: 0.8629768941429339\n"
     ]
    },
    {
     "name": "stderr",
     "output_type": "stream",
     "text": [
      "Epoch 5: 100%|██████████| 258/258 [01:57<00:00,  2.20it/s, training_loss=0.025]\n",
      " 40%|████      | 4/10 [10:36<13:01, 130.26s/it]"
     ]
    },
    {
     "name": "stdout",
     "output_type": "stream",
     "text": [
      "\n",
      "Epoch 5\n",
      "Training loss: 0.13832336710765958\n"
     ]
    },
    {
     "name": "stderr",
     "output_type": "stream",
     "text": [
      " 40%|████      | 4/10 [10:40<13:01, 130.26s/it]"
     ]
    },
    {
     "name": "stdout",
     "output_type": "stream",
     "text": [
      "Validation loss: 0.5932147962779835\n",
      "Accuracy: 0.8602620087336245\n"
     ]
    },
    {
     "name": "stderr",
     "output_type": "stream",
     "text": [
      " 50%|█████     | 5/10 [10:49<10:50, 130.04s/it]"
     ]
    },
    {
     "name": "stdout",
     "output_type": "stream",
     "text": [
      "Test loss: 0.8473938742611499\n",
      "Accuracy: 0.8473938742611499\n"
     ]
    },
    {
     "name": "stderr",
     "output_type": "stream",
     "text": [
      "Epoch 6: 100%|██████████| 258/258 [01:54<00:00,  2.25it/s, training_loss=0.001]\n",
      " 50%|█████     | 5/10 [12:43<10:50, 130.04s/it]"
     ]
    },
    {
     "name": "stdout",
     "output_type": "stream",
     "text": [
      "\n",
      "Epoch 6\n",
      "Training loss: 0.09775568711049783\n"
     ]
    },
    {
     "name": "stderr",
     "output_type": "stream",
     "text": [
      " 50%|█████     | 5/10 [12:47<10:50, 130.04s/it]"
     ]
    },
    {
     "name": "stdout",
     "output_type": "stream",
     "text": [
      "Validation loss: 0.7663043192748366\n",
      "Accuracy: 0.8526200873362445\n"
     ]
    },
    {
     "name": "stderr",
     "output_type": "stream",
     "text": [
      " 60%|██████    | 6/10 [12:55<08:35, 128.97s/it]"
     ]
    },
    {
     "name": "stdout",
     "output_type": "stream",
     "text": [
      "Test loss: 0.8527673293927995\n",
      "Accuracy: 0.8527673293927995\n"
     ]
    },
    {
     "name": "stderr",
     "output_type": "stream",
     "text": [
      "Epoch 7: 100%|██████████| 258/258 [01:56<00:00,  2.22it/s, training_loss=0.012]\n",
      " 60%|██████    | 6/10 [14:52<08:35, 128.97s/it]"
     ]
    },
    {
     "name": "stdout",
     "output_type": "stream",
     "text": [
      "\n",
      "Epoch 7\n",
      "Training loss: 0.07756188371653719\n"
     ]
    },
    {
     "name": "stderr",
     "output_type": "stream",
     "text": [
      " 60%|██████    | 6/10 [14:56<08:35, 128.97s/it]"
     ]
    },
    {
     "name": "stdout",
     "output_type": "stream",
     "text": [
      "Validation loss: 0.8862823104036266\n",
      "Accuracy: 0.8362445414847162\n"
     ]
    },
    {
     "name": "stderr",
     "output_type": "stream",
     "text": [
      " 70%|███████   | 7/10 [15:04<06:26, 128.78s/it]"
     ]
    },
    {
     "name": "stdout",
     "output_type": "stream",
     "text": [
      "Test loss: 0.845781837721655\n",
      "Accuracy: 0.845781837721655\n"
     ]
    },
    {
     "name": "stderr",
     "output_type": "stream",
     "text": [
      "Epoch 8: 100%|██████████| 258/258 [01:54<00:00,  2.25it/s, training_loss=0.014]\n",
      " 70%|███████   | 7/10 [16:58<06:26, 128.78s/it]"
     ]
    },
    {
     "name": "stdout",
     "output_type": "stream",
     "text": [
      "\n",
      "Epoch 8\n",
      "Training loss: 0.06286587882895282\n"
     ]
    },
    {
     "name": "stderr",
     "output_type": "stream",
     "text": [
      " 70%|███████   | 7/10 [17:02<06:26, 128.78s/it]"
     ]
    },
    {
     "name": "stdout",
     "output_type": "stream",
     "text": [
      "Validation loss: 0.9769521273415664\n",
      "Accuracy: 0.8209606986899564\n"
     ]
    },
    {
     "name": "stderr",
     "output_type": "stream",
     "text": [
      " 80%|████████  | 8/10 [17:10<04:16, 128.11s/it]"
     ]
    },
    {
     "name": "stdout",
     "output_type": "stream",
     "text": [
      "Test loss: 0.8199892530897367\n",
      "Accuracy: 0.8199892530897367\n"
     ]
    },
    {
     "name": "stderr",
     "output_type": "stream",
     "text": [
      "Epoch 9: 100%|██████████| 258/258 [01:54<00:00,  2.25it/s, training_loss=0.004]\n",
      " 80%|████████  | 8/10 [19:05<04:16, 128.11s/it]"
     ]
    },
    {
     "name": "stdout",
     "output_type": "stream",
     "text": [
      "\n",
      "Epoch 9\n",
      "Training loss: 0.03729873303912378\n"
     ]
    },
    {
     "name": "stderr",
     "output_type": "stream",
     "text": [
      " 80%|████████  | 8/10 [19:09<04:16, 128.11s/it]"
     ]
    },
    {
     "name": "stdout",
     "output_type": "stream",
     "text": [
      "Validation loss: 0.9789999425411224\n",
      "Accuracy: 0.8427947598253275\n"
     ]
    },
    {
     "name": "stderr",
     "output_type": "stream",
     "text": [
      " 90%|█████████ | 9/10 [19:17<02:07, 127.77s/it]"
     ]
    },
    {
     "name": "stdout",
     "output_type": "stream",
     "text": [
      "Test loss: 0.831273508866201\n",
      "Accuracy: 0.831273508866201\n"
     ]
    },
    {
     "name": "stderr",
     "output_type": "stream",
     "text": [
      "Epoch 10: 100%|██████████| 258/258 [01:54<00:00,  2.25it/s, training_loss=0.000]\n",
      " 90%|█████████ | 9/10 [21:12<02:07, 127.77s/it]"
     ]
    },
    {
     "name": "stdout",
     "output_type": "stream",
     "text": [
      "\n",
      "Epoch 10\n",
      "Training loss: 0.030392309466341704\n"
     ]
    },
    {
     "name": "stderr",
     "output_type": "stream",
     "text": [
      " 90%|█████████ | 9/10 [21:16<02:07, 127.77s/it]"
     ]
    },
    {
     "name": "stdout",
     "output_type": "stream",
     "text": [
      "Validation loss: 1.0008388233595882\n",
      "Accuracy: 0.8460698689956332\n"
     ]
    },
    {
     "name": "stderr",
     "output_type": "stream",
     "text": [
      "100%|██████████| 10/10 [21:24<00:00, 128.49s/it]"
     ]
    },
    {
     "name": "stdout",
     "output_type": "stream",
     "text": [
      "Test loss: 0.831810854379366\n",
      "Accuracy: 0.831810854379366\n"
     ]
    },
    {
     "name": "stderr",
     "output_type": "stream",
     "text": [
      "\n"
     ]
    }
   ],
   "source": [
    "optimizer = torch.optim.AdamW(model.parameters(), lr = 2e-5, betas=(0.9, 0.98), eps=1e-6)\n",
    "\n",
    "epochs = 10\n",
    "total_steps = len(train_dataloader)*epochs\n",
    "scheduler = get_linear_schedule_with_warmup(optimizer,num_warmup_steps=0,\n",
    "                                           num_training_steps=total_steps)\n",
    "\n",
    "torch.cuda.empty_cache()\n",
    "early_stopper = EarlyStopper(patience=3, min_delta=10)\n",
    "for epoch in tqdm(range(1, epochs+1)):\n",
    "    \n",
    "    model.train()\n",
    "    \n",
    "    loss_train_total = 0\n",
    "\n",
    "    progress_bar = tqdm(train_dataloader, desc='Epoch {:1d}'.format(epoch), leave=True, disable=False, position=0)\n",
    "    for batch in progress_bar:\n",
    "\n",
    "        model.zero_grad()\n",
    "        \n",
    "        input_ids = batch[0].to(device)\n",
    "        attention_mask = batch[1].to(device)\n",
    "        batch[2] = batch[2].type(torch.LongTensor)   # casting to long\n",
    "        labels = batch[2].to(device)\n",
    "        \n",
    "        inputs = {'input_ids':      input_ids,\n",
    "                  'attention_mask': attention_mask,\n",
    "                  'labels':         labels,\n",
    "                 }\n",
    "\n",
    "        outputs = model(**inputs)\n",
    "        loss = outputs.loss\n",
    "        loss_train_total += loss.item()\n",
    "        loss.backward()\n",
    "\n",
    "        torch.nn.utils.clip_grad_norm_(model.parameters(), 1.0)\n",
    "\n",
    "        optimizer.step()\n",
    "        scheduler.step()\n",
    "        \n",
    "        progress_bar.set_postfix({'training_loss': '{:.3f}'.format(loss.item()/len(batch))})\n",
    "         \n",
    "        \n",
    "    tqdm.write(f'\\nEpoch {epoch}')\n",
    "    \n",
    "    loss_train_avg = loss_train_total/len(train_dataloader)            \n",
    "    tqdm.write(f'Training loss: {loss_train_avg}')\n",
    "    \n",
    "    val_loss, predictions, true_vals = evaluate(val_dataloader)\n",
    "    val_acc = accuracy(predictions, true_vals)\n",
    "    tqdm.write(f'Validation loss: {val_loss}')\n",
    "    tqdm.write(f'Accuracy: {val_acc}')\n",
    "    \n",
    "    test_loss, predictions, true_vals = evaluate(test_dataloader)\n",
    "    test_acc = accuracy(predictions, true_vals)\n",
    "    tqdm.write(f'Test loss: {test_acc}')\n",
    "    tqdm.write(f'Accuracy: {test_acc}')\n",
    "    \n",
    "    if early_stopper.early_stop(val_loss):\n",
    "        print(\"Early stopped.\")\n",
    "        break"
   ]
  },
  {
   "cell_type": "code",
   "execution_count": 20,
   "metadata": {},
   "outputs": [
    {
     "name": "stdout",
     "output_type": "stream",
     "text": [
      "Validation Accuracy: 0.831810854379366\n",
      "Classification Report for EQT types RoBERTa model\n",
      "              precision    recall  f1-score   support\n",
      "\n",
      "           0       0.89      0.83      0.86       997\n",
      "           1       0.85      0.81      0.83       605\n",
      "           2       0.66      0.88      0.75       259\n",
      "\n",
      "    accuracy                           0.83      1861\n",
      "   macro avg       0.80      0.84      0.81      1861\n",
      "weighted avg       0.84      0.83      0.83      1861\n",
      "\n"
     ]
    }
   ],
   "source": [
    "test_loss, predictions, true_vals = evaluate(test_dataloader)\n",
    "val_acc = accuracy(predictions, true_vals)\n",
    "print(f\"Validation Accuracy: {val_acc}\")\n",
    "\n",
    "print(f\"Classification Report for EQT types RoBERTa model\")\n",
    "print(classification_report(true_vals, np.argmax(predictions,axis=1), zero_division=0))"
   ]
  }
 ],
 "metadata": {
  "kernelspec": {
   "display_name": "datasci",
   "language": "python",
   "name": "myenv"
  },
  "language_info": {
   "codemirror_mode": {
    "name": "ipython",
    "version": 3
   },
   "file_extension": ".py",
   "mimetype": "text/x-python",
   "name": "python",
   "nbconvert_exporter": "python",
   "pygments_lexer": "ipython3",
   "version": "3.10.13"
  }
 },
 "nbformat": 4,
 "nbformat_minor": 4
}
