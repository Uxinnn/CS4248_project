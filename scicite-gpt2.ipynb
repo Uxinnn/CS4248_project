{
 "cells": [
  {
   "cell_type": "code",
   "execution_count": 20,
   "id": "f5770bac",
   "metadata": {
    "execution": {
     "iopub.execute_input": "2024-04-09T06:48:00.444792Z",
     "iopub.status.busy": "2024-04-09T06:48:00.444451Z",
     "iopub.status.idle": "2024-04-09T06:48:00.451086Z",
     "shell.execute_reply": "2024-04-09T06:48:00.450032Z",
     "shell.execute_reply.started": "2024-04-09T06:48:00.444767Z"
    },
    "executionInfo": {
     "elapsed": 16903,
     "status": "ok",
     "timestamp": 1712644408221,
     "user": {
      "displayName": "He Sun",
      "userId": "04900602068395326930"
     },
     "user_tz": -480
    },
    "id": "11245acf"
   },
   "outputs": [],
   "source": [
    "import numpy as np\n",
    "import pandas as pd\n",
    "import json\n",
    "from transformers import GPT2Tokenizer, GPT2ForSequenceClassification, GPT2Config\n",
    "from torch.utils.data import DataLoader, Dataset\n",
    "import torch\n",
    "from transformers import Trainer, TrainingArguments\n",
    "from sklearn.metrics import f1_score, precision_score, recall_score, roc_auc_score, accuracy_score, classification_report\n",
    "from sklearn.preprocessing import label_binarize\n",
    "import os"
   ]
  },
  {
   "cell_type": "code",
   "execution_count": 2,
   "id": "bf1cb4ad",
   "metadata": {
    "execution": {
     "iopub.execute_input": "2024-04-09T06:41:37.244135Z",
     "iopub.status.busy": "2024-04-09T06:41:37.242845Z",
     "iopub.status.idle": "2024-04-09T06:41:37.541022Z",
     "shell.execute_reply": "2024-04-09T06:41:37.540230Z",
     "shell.execute_reply.started": "2024-04-09T06:41:37.244096Z"
    },
    "executionInfo": {
     "elapsed": 951,
     "status": "ok",
     "timestamp": 1712644413388,
     "user": {
      "displayName": "He Sun",
      "userId": "04900602068395326930"
     },
     "user_tz": -480
    },
    "id": "d2c013f0"
   },
   "outputs": [],
   "source": [
    "# Read JSONL files\n",
    "def read_jsonl(file_path):\n",
    "    records = []\n",
    "    with open(file_path, encoding='utf-8') as f:\n",
    "        for line in f:\n",
    "            records.append(json.loads(line))\n",
    "    return pd.DataFrame(records)\n",
    "\n",
    "# Read datasets\n",
    "train_df = read_jsonl('../input/scicite/train.jsonl')\n",
    "dev_df = read_jsonl('../input/scicite/dev.jsonl')\n",
    "test_df = read_jsonl('../input/scicite/test.jsonl')"
   ]
  },
  {
   "cell_type": "code",
   "execution_count": 3,
   "id": "689f6810",
   "metadata": {
    "execution": {
     "iopub.execute_input": "2024-04-09T06:41:41.217891Z",
     "iopub.status.busy": "2024-04-09T06:41:41.217539Z",
     "iopub.status.idle": "2024-04-09T06:41:41.235118Z",
     "shell.execute_reply": "2024-04-09T06:41:41.233973Z",
     "shell.execute_reply.started": "2024-04-09T06:41:41.217864Z"
    },
    "executionInfo": {
     "elapsed": 329,
     "status": "ok",
     "timestamp": 1712644415417,
     "user": {
      "displayName": "He Sun",
      "userId": "04900602068395326930"
     },
     "user_tz": -480
    },
    "id": "55324267"
   },
   "outputs": [],
   "source": [
    "# Define the mapping of labels to integers\n",
    "label_to_int = {\n",
    "    'background': 0,\n",
    "    'method': 1,\n",
    "    'result': 2\n",
    "}\n",
    "\n",
    "# Convert labels to integers\n",
    "train_df['label'] = train_df['label'].map(label_to_int)\n",
    "dev_df['label'] = dev_df['label'].map(label_to_int)\n",
    "test_df['label'] = test_df['label'].map(label_to_int)"
   ]
  },
  {
   "cell_type": "code",
   "execution_count": 4,
   "id": "40535143",
   "metadata": {
    "colab": {
     "base_uri": "https://localhost:8080/"
    },
    "execution": {
     "iopub.execute_input": "2024-04-09T06:41:45.232396Z",
     "iopub.status.busy": "2024-04-09T06:41:45.231615Z",
     "iopub.status.idle": "2024-04-09T06:41:52.778892Z",
     "shell.execute_reply": "2024-04-09T06:41:52.778097Z",
     "shell.execute_reply.started": "2024-04-09T06:41:45.232363Z"
    },
    "executionInfo": {
     "elapsed": 6784,
     "status": "ok",
     "timestamp": 1712644423897,
     "user": {
      "displayName": "He Sun",
      "userId": "04900602068395326930"
     },
     "user_tz": -480
    },
    "id": "877e88d3",
    "outputId": "3e47a5e1-a6c9-4e6e-e156-8a0b7e13f802"
   },
   "outputs": [
    {
     "data": {
      "application/vnd.jupyter.widget-view+json": {
       "model_id": "cef265b367f446a59cb44354078e71bc",
       "version_major": 2,
       "version_minor": 0
      },
      "text/plain": [
       "tokenizer_config.json:   0%|          | 0.00/26.0 [00:00<?, ?B/s]"
      ]
     },
     "metadata": {},
     "output_type": "display_data"
    },
    {
     "data": {
      "application/vnd.jupyter.widget-view+json": {
       "model_id": "357f3711192f46508fdceb897339af06",
       "version_major": 2,
       "version_minor": 0
      },
      "text/plain": [
       "vocab.json:   0%|          | 0.00/1.04M [00:00<?, ?B/s]"
      ]
     },
     "metadata": {},
     "output_type": "display_data"
    },
    {
     "data": {
      "application/vnd.jupyter.widget-view+json": {
       "model_id": "cdd15e7fd90140dc90cff6f2b98a78b9",
       "version_major": 2,
       "version_minor": 0
      },
      "text/plain": [
       "merges.txt:   0%|          | 0.00/456k [00:00<?, ?B/s]"
      ]
     },
     "metadata": {},
     "output_type": "display_data"
    },
    {
     "data": {
      "application/vnd.jupyter.widget-view+json": {
       "model_id": "66e90efd36a24b4e8c4442a40835243f",
       "version_major": 2,
       "version_minor": 0
      },
      "text/plain": [
       "tokenizer.json:   0%|          | 0.00/1.36M [00:00<?, ?B/s]"
      ]
     },
     "metadata": {},
     "output_type": "display_data"
    },
    {
     "data": {
      "application/vnd.jupyter.widget-view+json": {
       "model_id": "5522fcea990c43aa8ce03cc309cda478",
       "version_major": 2,
       "version_minor": 0
      },
      "text/plain": [
       "config.json:   0%|          | 0.00/665 [00:00<?, ?B/s]"
      ]
     },
     "metadata": {},
     "output_type": "display_data"
    },
    {
     "data": {
      "application/vnd.jupyter.widget-view+json": {
       "model_id": "ed9a7fb471124672b5ab8bc106c17aae",
       "version_major": 2,
       "version_minor": 0
      },
      "text/plain": [
       "model.safetensors:   0%|          | 0.00/548M [00:00<?, ?B/s]"
      ]
     },
     "metadata": {},
     "output_type": "display_data"
    },
    {
     "name": "stderr",
     "output_type": "stream",
     "text": [
      "Some weights of GPT2ForSequenceClassification were not initialized from the model checkpoint at gpt2 and are newly initialized: ['score.weight']\n",
      "You should probably TRAIN this model on a down-stream task to be able to use it for predictions and inference.\n"
     ]
    }
   ],
   "source": [
    "# Instantiate the configuration for model\n",
    "configuration = GPT2Config()\n",
    "\n",
    "# Set up tokenizer and  pad token\n",
    "tokenizer = GPT2Tokenizer.from_pretrained(\"gpt2\")\n",
    "tokenizer.pad_token = tokenizer.eos_token\n",
    "\n",
    "# Instantiate the model\n",
    "model = GPT2ForSequenceClassification(configuration).from_pretrained('gpt2', num_labels=3)\n",
    "\n",
    "# Set the pad token of the model's configuration\n",
    "model.config.pad_token_id = model.config.eos_token_id"
   ]
  },
  {
   "cell_type": "code",
   "execution_count": 5,
   "id": "a66252a1",
   "metadata": {
    "execution": {
     "iopub.execute_input": "2024-04-09T06:42:03.870297Z",
     "iopub.status.busy": "2024-04-09T06:42:03.869431Z",
     "iopub.status.idle": "2024-04-09T06:42:11.389023Z",
     "shell.execute_reply": "2024-04-09T06:42:11.388014Z",
     "shell.execute_reply.started": "2024-04-09T06:42:03.870253Z"
    },
    "executionInfo": {
     "elapsed": 6063,
     "status": "ok",
     "timestamp": 1712644435998,
     "user": {
      "displayName": "He Sun",
      "userId": "04900602068395326930"
     },
     "user_tz": -480
    },
    "id": "a4743845"
   },
   "outputs": [],
   "source": [
    "# Encode datasets\n",
    "class CitationDataset(Dataset):\n",
    "    def __init__(self, encodings, labels):\n",
    "        self.encodings = encodings\n",
    "        self.labels = labels\n",
    "\n",
    "    def __getitem__(self, idx):\n",
    "        item = {key: torch.tensor(val[idx]) for key, val in self.encodings.items()}\n",
    "        item['labels'] = torch.tensor(self.labels[idx])\n",
    "        return item\n",
    "\n",
    "    def __len__(self):\n",
    "        return len(self.labels)\n",
    "\n",
    "# Prepare datasets\n",
    "def encode_data(tokenizer, texts, labels):\n",
    "    encodings = tokenizer(texts, truncation=True, padding=True, max_length=512)\n",
    "    return CitationDataset(encodings, labels)\n",
    "\n",
    "train_dataset = encode_data(tokenizer, train_df['string'].tolist(), train_df['label'].tolist())\n",
    "dev_dataset = encode_data(tokenizer, dev_df['string'].tolist(), dev_df['label'].tolist())\n",
    "test_dataset = encode_data(tokenizer, test_df['string'].tolist(), test_df['label'].tolist())"
   ]
  },
  {
   "cell_type": "code",
   "execution_count": 6,
   "id": "f6011783",
   "metadata": {
    "colab": {
     "base_uri": "https://localhost:8080/"
    },
    "execution": {
     "iopub.execute_input": "2024-04-09T06:42:16.386505Z",
     "iopub.status.busy": "2024-04-09T06:42:16.385767Z",
     "iopub.status.idle": "2024-04-09T06:42:16.391308Z",
     "shell.execute_reply": "2024-04-09T06:42:16.390326Z",
     "shell.execute_reply.started": "2024-04-09T06:42:16.386473Z"
    },
    "executionInfo": {
     "elapsed": 275,
     "status": "ok",
     "timestamp": 1712644443764,
     "user": {
      "displayName": "He Sun",
      "userId": "04900602068395326930"
     },
     "user_tz": -480
    },
    "id": "xonkgJl1QTCA",
    "outputId": "790d2e6f-d037-4891-c6c3-36b1c819e679"
   },
   "outputs": [
    {
     "name": "stdout",
     "output_type": "stream",
     "text": [
      "Accelerate is installed and can be imported.\n"
     ]
    }
   ],
   "source": [
    "try:\n",
    "    from accelerate import Accelerator\n",
    "    print(\"Accelerate is installed and can be imported.\")\n",
    "except ImportError as e:\n",
    "    print(\"Accelerate is not installed or there's an issue with importing it.\")"
   ]
  },
  {
   "cell_type": "code",
   "execution_count": 21,
   "id": "d33f96af",
   "metadata": {
    "colab": {
     "base_uri": "https://localhost:8080/"
    },
    "execution": {
     "iopub.execute_input": "2024-04-09T06:48:10.148733Z",
     "iopub.status.busy": "2024-04-09T06:48:10.148379Z",
     "iopub.status.idle": "2024-04-09T06:48:10.161856Z",
     "shell.execute_reply": "2024-04-09T06:48:10.161045Z",
     "shell.execute_reply.started": "2024-04-09T06:48:10.148707Z"
    },
    "executionInfo": {
     "elapsed": 299,
     "status": "ok",
     "timestamp": 1712644481934,
     "user": {
      "displayName": "He Sun",
      "userId": "04900602068395326930"
     },
     "user_tz": -480
    },
    "id": "c7ee401d",
    "outputId": "16bc7a22-6a40-4e70-e1cf-d8a04823ec36"
   },
   "outputs": [],
   "source": [
    "# Define training parameters\n",
    "training_args = TrainingArguments(\n",
    "    output_dir='./results',\n",
    "    num_train_epochs=5,\n",
    "    per_device_train_batch_size=8,\n",
    "    per_device_eval_batch_size=8,\n",
    "    gradient_accumulation_steps=4,\n",
    "    warmup_steps=500,\n",
    "    weight_decay=0.01,\n",
    "    logging_dir='./logs',\n",
    "    logging_steps=50,\n",
    "    report_to=\"none\",\n",
    ")\n",
    "\n",
    "trainer = Trainer(\n",
    "    model=model,\n",
    "    args=training_args,\n",
    "    train_dataset=train_dataset,\n",
    "    eval_dataset=dev_dataset\n",
    ")"
   ]
  },
  {
   "cell_type": "code",
   "execution_count": 22,
   "id": "6f63736f",
   "metadata": {
    "execution": {
     "iopub.execute_input": "2024-04-09T06:48:13.242330Z",
     "iopub.status.busy": "2024-04-09T06:48:13.241524Z",
     "iopub.status.idle": "2024-04-09T06:48:13.246782Z",
     "shell.execute_reply": "2024-04-09T06:48:13.245707Z",
     "shell.execute_reply.started": "2024-04-09T06:48:13.242297Z"
    }
   },
   "outputs": [],
   "source": [
    "# Set environment variable for PyTorch\n",
    "os.environ['CUDA_LAUNCH_BLOCKING'] = \"1\"\n",
    "os.environ['PYTORCH_CUDA_ALLOC_CONF'] = \"max_split_size_mb:50\""
   ]
  },
  {
   "cell_type": "code",
   "execution_count": 23,
   "id": "9d02f84c",
   "metadata": {
    "colab": {
     "base_uri": "https://localhost:8080/",
     "height": 365
    },
    "execution": {
     "iopub.execute_input": "2024-04-09T06:48:15.866893Z",
     "iopub.status.busy": "2024-04-09T06:48:15.866292Z",
     "iopub.status.idle": "2024-04-09T07:27:58.985127Z",
     "shell.execute_reply": "2024-04-09T07:27:58.984246Z",
     "shell.execute_reply.started": "2024-04-09T06:48:15.866862Z"
    },
    "executionInfo": {
     "elapsed": 797,
     "status": "error",
     "timestamp": 1712644486004,
     "user": {
      "displayName": "He Sun",
      "userId": "04900602068395326930"
     },
     "user_tz": -480
    },
    "id": "55472c5a",
    "outputId": "4c027f38-0927-496d-a409-c33cf67b3998"
   },
   "outputs": [
    {
     "name": "stderr",
     "output_type": "stream",
     "text": [
      "/opt/conda/lib/python3.10/site-packages/torch/nn/parallel/_functions.py:68: UserWarning: Was asked to gather along dimension 0, but all input tensors were scalars; will instead unsqueeze and return a vector.\n",
      "  warnings.warn('Was asked to gather along dimension 0, but all '\n"
     ]
    },
    {
     "data": {
      "text/html": [
       "\n",
       "    <div>\n",
       "      \n",
       "      <progress value='645' max='645' style='width:300px; height:20px; vertical-align: middle;'></progress>\n",
       "      [645/645 39:38, Epoch 5/5]\n",
       "    </div>\n",
       "    <table border=\"1\" class=\"dataframe\">\n",
       "  <thead>\n",
       " <tr style=\"text-align: left;\">\n",
       "      <th>Step</th>\n",
       "      <th>Training Loss</th>\n",
       "    </tr>\n",
       "  </thead>\n",
       "  <tbody>\n",
       "    <tr>\n",
       "      <td>50</td>\n",
       "      <td>8.060300</td>\n",
       "    </tr>\n",
       "    <tr>\n",
       "      <td>100</td>\n",
       "      <td>1.321400</td>\n",
       "    </tr>\n",
       "    <tr>\n",
       "      <td>150</td>\n",
       "      <td>0.730600</td>\n",
       "    </tr>\n",
       "    <tr>\n",
       "      <td>200</td>\n",
       "      <td>0.567800</td>\n",
       "    </tr>\n",
       "    <tr>\n",
       "      <td>250</td>\n",
       "      <td>0.467100</td>\n",
       "    </tr>\n",
       "    <tr>\n",
       "      <td>300</td>\n",
       "      <td>0.400900</td>\n",
       "    </tr>\n",
       "    <tr>\n",
       "      <td>350</td>\n",
       "      <td>0.393500</td>\n",
       "    </tr>\n",
       "    <tr>\n",
       "      <td>400</td>\n",
       "      <td>0.355300</td>\n",
       "    </tr>\n",
       "    <tr>\n",
       "      <td>450</td>\n",
       "      <td>0.299000</td>\n",
       "    </tr>\n",
       "    <tr>\n",
       "      <td>500</td>\n",
       "      <td>0.344600</td>\n",
       "    </tr>\n",
       "    <tr>\n",
       "      <td>550</td>\n",
       "      <td>0.265900</td>\n",
       "    </tr>\n",
       "    <tr>\n",
       "      <td>600</td>\n",
       "      <td>0.255900</td>\n",
       "    </tr>\n",
       "  </tbody>\n",
       "</table><p>"
      ],
      "text/plain": [
       "<IPython.core.display.HTML object>"
      ]
     },
     "metadata": {},
     "output_type": "display_data"
    },
    {
     "name": "stderr",
     "output_type": "stream",
     "text": [
      "/opt/conda/lib/python3.10/site-packages/torch/nn/parallel/_functions.py:68: UserWarning: Was asked to gather along dimension 0, but all input tensors were scalars; will instead unsqueeze and return a vector.\n",
      "  warnings.warn('Was asked to gather along dimension 0, but all '\n"
     ]
    },
    {
     "data": {
      "text/plain": [
       "TrainOutput(global_step=645, training_loss=1.0598640929820926, metrics={'train_runtime': 2382.4702, 'train_samples_per_second': 17.299, 'train_steps_per_second': 0.271, 'total_flos': 1.076944281403392e+16, 'train_loss': 1.0598640929820926, 'epoch': 5.0})"
      ]
     },
     "execution_count": 23,
     "metadata": {},
     "output_type": "execute_result"
    }
   ],
   "source": [
    "# Train\n",
    "trainer.train()"
   ]
  },
  {
   "cell_type": "code",
   "execution_count": 24,
   "id": "404a0bd3",
   "metadata": {
    "colab": {
     "base_uri": "https://localhost:8080/",
     "height": 17
    },
    "execution": {
     "iopub.execute_input": "2024-04-09T07:28:25.346667Z",
     "iopub.status.busy": "2024-04-09T07:28:25.345956Z",
     "iopub.status.idle": "2024-04-09T07:28:48.116116Z",
     "shell.execute_reply": "2024-04-09T07:28:48.115376Z",
     "shell.execute_reply.started": "2024-04-09T07:28:25.346634Z"
    },
    "executionInfo": {
     "elapsed": 32668,
     "status": "ok",
     "timestamp": 1712066953847,
     "user": {
      "displayName": "He Sun",
      "userId": "04900602068395326930"
     },
     "user_tz": -480
    },
    "id": "6ffe47d6",
    "outputId": "14e5e7f1-c053-4e3a-a08f-46c9b9c28e04"
   },
   "outputs": [
    {
     "data": {
      "text/html": [],
      "text/plain": [
       "<IPython.core.display.HTML object>"
      ]
     },
     "metadata": {},
     "output_type": "display_data"
    }
   ],
   "source": [
    "# Predict\n",
    "predictions = trainer.predict(test_dataset)\n",
    "\n",
    "# Extract predicted results and true labels\n",
    "preds = np.argmax(predictions.predictions, axis=-1)\n",
    "true_labels = predictions.label_ids\n",
    "n_classes = np.max(true_labels) + 1\n",
    "true_labels_binary = label_binarize(true_labels, classes=range(n_classes))"
   ]
  },
  {
   "cell_type": "code",
   "execution_count": 25,
   "id": "ba668c06",
   "metadata": {
    "colab": {
     "base_uri": "https://localhost:8080/"
    },
    "execution": {
     "iopub.execute_input": "2024-04-09T07:29:00.036680Z",
     "iopub.status.busy": "2024-04-09T07:29:00.035995Z",
     "iopub.status.idle": "2024-04-09T07:29:00.059151Z",
     "shell.execute_reply": "2024-04-09T07:29:00.058315Z",
     "shell.execute_reply.started": "2024-04-09T07:29:00.036648Z"
    },
    "executionInfo": {
     "elapsed": 1029,
     "status": "ok",
     "timestamp": 1712066979461,
     "user": {
      "displayName": "He Sun",
      "userId": "04900602068395326930"
     },
     "user_tz": -480
    },
    "id": "dc8cf919",
    "outputId": "142cad3e-db25-498c-e926-3b2b2724b457"
   },
   "outputs": [
    {
     "name": "stdout",
     "output_type": "stream",
     "text": [
      "F1 Score: 0.8630910607629326\n",
      "Accuracy: 0.8613648576034391\n",
      "Precision: 0.8689248386842947\n",
      "Recall: 0.8613648576034391\n",
      "AUC (One-vs-Rest): 0.9491705777414831\n"
     ]
    }
   ],
   "source": [
    "# Compute f1 score, accuracy, precision, recall and auc\n",
    "f1 = f1_score(true_labels, preds, average='weighted')\n",
    "accuracy = accuracy_score(true_labels, preds)\n",
    "precision = precision_score(true_labels, preds, average='weighted')\n",
    "recall = recall_score(true_labels, preds, average='weighted')\n",
    "auc = roc_auc_score(true_labels_binary, predictions.predictions, multi_class='ovr')\n",
    "\n",
    "print(f'F1 Score: {f1}')\n",
    "print(f'Accuracy: {accuracy}')\n",
    "print(f'Precision: {precision}')\n",
    "print(f'Recall: {recall}')\n",
    "print(f'AUC (One-vs-Rest): {auc}')"
   ]
  },
  {
   "cell_type": "code",
   "execution_count": 26,
   "id": "d40feb8f",
   "metadata": {
    "execution": {
     "iopub.execute_input": "2024-04-09T07:29:09.097440Z",
     "iopub.status.busy": "2024-04-09T07:29:09.097073Z",
     "iopub.status.idle": "2024-04-09T07:29:09.112848Z",
     "shell.execute_reply": "2024-04-09T07:29:09.111823Z",
     "shell.execute_reply.started": "2024-04-09T07:29:09.097413Z"
    },
    "id": "11Rc5naOf4fl"
   },
   "outputs": [
    {
     "name": "stdout",
     "output_type": "stream",
     "text": [
      "classification_report\n",
      "               precision    recall  f1-score   support\n",
      "\n",
      "           0       0.90      0.86      0.88       997\n",
      "           1       0.89      0.85      0.87       605\n",
      "           2       0.70      0.90      0.79       259\n",
      "\n",
      "    accuracy                           0.86      1861\n",
      "   macro avg       0.83      0.87      0.84      1861\n",
      "weighted avg       0.87      0.86      0.86      1861\n",
      "\n"
     ]
    }
   ],
   "source": [
    "print('classification_report\\n',classification_report(true_labels, preds))"
   ]
  }
 ],
 "metadata": {
  "accelerator": "GPU",
  "colab": {
   "gpuType": "T4",
   "provenance": []
  },
  "kaggle": {
   "accelerator": "nvidiaTeslaT4",
   "dataSources": [
    {
     "datasetId": 4761753,
     "sourceId": 8070260,
     "sourceType": "datasetVersion"
    }
   ],
   "dockerImageVersionId": 30683,
   "isGpuEnabled": true,
   "isInternetEnabled": true,
   "language": "python",
   "sourceType": "notebook"
  },
  "kernelspec": {
   "display_name": "Python 3 (ipykernel)",
   "language": "python",
   "name": "python3"
  },
  "language_info": {
   "codemirror_mode": {
    "name": "ipython",
    "version": 3
   },
   "file_extension": ".py",
   "mimetype": "text/x-python",
   "name": "python",
   "nbconvert_exporter": "python",
   "pygments_lexer": "ipython3",
   "version": "3.10.9"
  }
 },
 "nbformat": 4,
 "nbformat_minor": 5
}
