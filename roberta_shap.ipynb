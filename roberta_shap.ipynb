{
 "cells": [
  {
   "cell_type": "code",
   "execution_count": 2,
   "id": "6041f0cb-1b5d-4579-915a-618cb7cf92f8",
   "metadata": {},
   "outputs": [
    {
     "name": "stderr",
     "output_type": "stream",
     "text": [
      "c:\\Users\\chris\\MyStuff\\NUS\\Y4S2\\CS4248\\env\\Lib\\site-packages\\tqdm\\auto.py:21: TqdmWarning: IProgress not found. Please update jupyter and ipywidgets. See https://ipywidgets.readthedocs.io/en/stable/user_install.html\n",
      "  from .autonotebook import tqdm as notebook_tqdm\n"
     ]
    }
   ],
   "source": [
    "import numpy as np\n",
    "import matplotlib.pyplot as plt\n",
    "import pandas as pd\n",
    "import json\n",
    "import torch\n",
    "import re\n",
    "import seaborn as sns\n",
    "from tqdm.notebook import tqdm\n",
    "from sklearn.metrics import accuracy_score, f1_score, confusion_matrix, classification_report\n",
    "from transformers import RobertaTokenizer, RobertaForSequenceClassification, get_linear_schedule_with_warmup\n",
    "from collections import defaultdict, Counter\n",
    "from sklearn.preprocessing import LabelEncoder"
   ]
  },
  {
   "cell_type": "code",
   "execution_count": 3,
   "id": "2c6d1f3b-ce78-457d-b040-497189753a9c",
   "metadata": {},
   "outputs": [],
   "source": [
    "# Torch\n",
    "device = torch.device('cuda' if torch.cuda.is_available() else 'cpu')\n",
    "device"
   ]
  },
  {
   "cell_type": "code",
   "execution_count": 4,
   "id": "efb00593-ab1d-4c53-99d8-faf657a53e01",
   "metadata": {},
   "outputs": [
    {
     "data": {
      "text/html": [
       "<div>\n",
       "<style scoped>\n",
       "    .dataframe tbody tr th:only-of-type {\n",
       "        vertical-align: middle;\n",
       "    }\n",
       "\n",
       "    .dataframe tbody tr th {\n",
       "        vertical-align: top;\n",
       "    }\n",
       "\n",
       "    .dataframe thead th {\n",
       "        text-align: right;\n",
       "    }\n",
       "</style>\n",
       "<table border=\"1\" class=\"dataframe\">\n",
       "  <thead>\n",
       "    <tr style=\"text-align: right;\">\n",
       "      <th></th>\n",
       "      <th>string</th>\n",
       "      <th>label</th>\n",
       "    </tr>\n",
       "  </thead>\n",
       "  <tbody>\n",
       "    <tr>\n",
       "      <th>0</th>\n",
       "      <td>Chapel, as well as X10 [2], UPC [3] , CoArray ...</td>\n",
       "      <td>background</td>\n",
       "    </tr>\n",
       "    <tr>\n",
       "      <th>1</th>\n",
       "      <td>In addition, the result of the present study s...</td>\n",
       "      <td>result</td>\n",
       "    </tr>\n",
       "    <tr>\n",
       "      <th>2</th>\n",
       "      <td>Several instruments that more specifically add...</td>\n",
       "      <td>background</td>\n",
       "    </tr>\n",
       "    <tr>\n",
       "      <th>3</th>\n",
       "      <td>Organotypic hippocampal slice cultures\\nInterf...</td>\n",
       "      <td>method</td>\n",
       "    </tr>\n",
       "    <tr>\n",
       "      <th>4</th>\n",
       "      <td>Activated PBMC are the basis of the standard P...</td>\n",
       "      <td>background</td>\n",
       "    </tr>\n",
       "    <tr>\n",
       "      <th>...</th>\n",
       "      <td>...</td>\n",
       "      <td>...</td>\n",
       "    </tr>\n",
       "    <tr>\n",
       "      <th>1856</th>\n",
       "      <td>Additionally, no sex differences were detected...</td>\n",
       "      <td>result</td>\n",
       "    </tr>\n",
       "    <tr>\n",
       "      <th>1857</th>\n",
       "      <td>WBRT (40Gy in 20 fractions) along with concurr...</td>\n",
       "      <td>background</td>\n",
       "    </tr>\n",
       "    <tr>\n",
       "      <th>1858</th>\n",
       "      <td>The data obtained from this crosssectional sur...</td>\n",
       "      <td>method</td>\n",
       "    </tr>\n",
       "    <tr>\n",
       "      <th>1859</th>\n",
       "      <td>Additionally, encapsulated spheroids may be mu...</td>\n",
       "      <td>background</td>\n",
       "    </tr>\n",
       "    <tr>\n",
       "      <th>1860</th>\n",
       "      <td>The dosages of L-NMMA and indomethacin infused...</td>\n",
       "      <td>method</td>\n",
       "    </tr>\n",
       "  </tbody>\n",
       "</table>\n",
       "<p>1861 rows × 2 columns</p>\n",
       "</div>"
      ],
      "text/plain": [
       "                                                 string       label\n",
       "0     Chapel, as well as X10 [2], UPC [3] , CoArray ...  background\n",
       "1     In addition, the result of the present study s...      result\n",
       "2     Several instruments that more specifically add...  background\n",
       "3     Organotypic hippocampal slice cultures\\nInterf...      method\n",
       "4     Activated PBMC are the basis of the standard P...  background\n",
       "...                                                 ...         ...\n",
       "1856  Additionally, no sex differences were detected...      result\n",
       "1857  WBRT (40Gy in 20 fractions) along with concurr...  background\n",
       "1858  The data obtained from this crosssectional sur...      method\n",
       "1859  Additionally, encapsulated spheroids may be mu...  background\n",
       "1860  The dosages of L-NMMA and indomethacin infused...      method\n",
       "\n",
       "[1861 rows x 2 columns]"
      ]
     },
     "execution_count": 4,
     "metadata": {},
     "output_type": "execute_result"
    }
   ],
   "source": [
    "# Read in json file\n",
    "jsonObjTrain = pd.read_json(path_or_buf=r'train.jsonl', lines=True)\n",
    "jsonObjTest = pd.read_json(path_or_buf=r'test.jsonl', lines=True)\n",
    "jsonObjVal = pd.read_json(path_or_buf=r'dev.jsonl', lines=True)\n",
    "\n",
    "# Select relevant columns\n",
    "train_df = jsonObjTrain[['string', 'label']]\n",
    "print(\"train_df\\nRows: \", train_df.shape[0], \"\\n\", train_df.head())\n",
    "test_df = jsonObjTest[['string', 'label']]\n",
    "print(\"\\ntest_df\\nRows: \", test_df.shape[0], \"\\n\", test_df.head())\n",
    "val_df = jsonObjVal[['string', 'label']]\n",
    "print(\"\\nval_df\\nRows: \", val_df.shape[0], \"\\n\", val_df.head())"
   ]
  },
  {
   "cell_type": "code",
   "execution_count": 10,
   "id": "ffc36eca",
   "metadata": {},
   "outputs": [
    {
     "name": "stdout",
     "output_type": "stream",
     "text": [
      "None\n"
     ]
    },
    {
     "ename": "TypeError",
     "evalue": "'NoneType' object is not subscriptable",
     "output_type": "error",
     "traceback": [
      "\u001b[1;31m---------------------------------------------------------------------------\u001b[0m",
      "\u001b[1;31mTypeError\u001b[0m                                 Traceback (most recent call last)",
      "Cell \u001b[1;32mIn[10], line 18\u001b[0m\n\u001b[0;32m     16\u001b[0m layer \u001b[38;5;241m=\u001b[39m \u001b[38;5;241m0\u001b[39m  \u001b[38;5;66;03m# Select which layer's attention weights to visualize\u001b[39;00m\n\u001b[0;32m     17\u001b[0m head \u001b[38;5;241m=\u001b[39m \u001b[38;5;241m0\u001b[39m   \u001b[38;5;66;03m# Select which attention head's weights to visualize\u001b[39;00m\n\u001b[1;32m---> 18\u001b[0m attention_weights \u001b[38;5;241m=\u001b[39m \u001b[43mattentions\u001b[49m\u001b[43m[\u001b[49m\u001b[43mlayer\u001b[49m\u001b[43m]\u001b[49m[\u001b[38;5;241m0\u001b[39m][head]\u001b[38;5;241m.\u001b[39mdetach()\u001b[38;5;241m.\u001b[39mnumpy()\n\u001b[0;32m     20\u001b[0m plt\u001b[38;5;241m.\u001b[39mfigure(figsize\u001b[38;5;241m=\u001b[39m(\u001b[38;5;241m10\u001b[39m, \u001b[38;5;241m6\u001b[39m))\n\u001b[0;32m     21\u001b[0m plt\u001b[38;5;241m.\u001b[39mimshow(attention_weights, cmap\u001b[38;5;241m=\u001b[39m\u001b[38;5;124m'\u001b[39m\u001b[38;5;124mhot\u001b[39m\u001b[38;5;124m'\u001b[39m, interpolation\u001b[38;5;241m=\u001b[39m\u001b[38;5;124m'\u001b[39m\u001b[38;5;124mnearest\u001b[39m\u001b[38;5;124m'\u001b[39m)\n",
      "\u001b[1;31mTypeError\u001b[0m: 'NoneType' object is not subscriptable"
     ]
    }
   ],
   "source": [
    "def f(x):\n",
    "    tv = torch.tensor(\n",
    "        [\n",
    "            tokenizer.encode(v, padding=\"max_length\", max_length=500, truncation=True)\n",
    "            for v in x\n",
    "        ]\n",
    "    ).cuda()\n",
    "    outputs = model(tv)[0].detach().cpu().numpy()\n",
    "    scores = (np.exp(outputs).T / np.exp(outputs).sum(-1)).T\n",
    "    val = sp.special.logit(scores[:, 1])  # use one vs rest logit units\n",
    "    return val\n",
    "\n",
    "explainer = shap.Explainer(f, tokenizer)\n",
    "\n",
    "X_test = test_df[\"string\"].tolist()\n",
    "y_test = torch.tensor(test_df[\"label\"].apply(lambda row: label_2_idx.index(row)).tolist())\n",
    "\n",
    "# Compute SHAP values\n",
    "shap_values = explainer(X_test, fixed_context=1, batch_size=2)\n",
    "\n",
    "# Visualize SHAP values\n",
    "shap.plots.text(shap_values)"
   ]
  },
  {
   "cell_type": "code",
   "execution_count": null,
   "id": "31f590c8-3b5c-4019-b1fb-b9f4d358d593",
   "metadata": {},
   "outputs": [],
   "source": [
    "label_2_idx = ['background', 'method', 'result']\n",
    "\n",
    "X_test = test_df[\"string\"].tolist()\n",
    "y_test = torch.tensor(test_df[\"label\"].apply(lambda row: label_2_idx.index(row)).tolist())\n",
    "\n",
    "# Compute SHAP values\n",
    "shap_values = explainer(X_test, fixed_context=1, batch_size=2)\n",
    "\n",
    "# Visualize SHAP values\n",
    "shap.plots.text(shap_values)"
   ]
  },
  {
   "cell_type": "code",
   "execution_count": null,
   "id": "234f6c09-f610-4927-890b-83b1bec88adf",
   "metadata": {},
   "outputs": [],
   "source": []
  }
 ],
 "metadata": {
  "kernelspec": {
   "display_name": "env",
   "language": "python",
   "name": "python3"
  },
  "language_info": {
   "codemirror_mode": {
    "name": "ipython",
    "version": 3
   },
   "file_extension": ".py",
   "mimetype": "text/x-python",
   "name": "python",
   "nbconvert_exporter": "python",
   "pygments_lexer": "ipython3",
   "version": "3.11.8"
  }
 },
 "nbformat": 4,
 "nbformat_minor": 5
}
